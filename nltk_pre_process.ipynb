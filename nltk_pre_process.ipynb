{
  "nbformat": 4,
  "nbformat_minor": 0,
  "metadata": {
    "colab": {
      "name": "nltk_pre_process.ipynb",
      "provenance": [],
      "collapsed_sections": [],
      "toc_visible": true
    },
    "kernelspec": {
      "display_name": "Python 3",
      "name": "python3"
    }
  },
  "cells": [
    {
      "cell_type": "code",
      "metadata": {
        "colab": {
          "background_save": true
        },
        "id": "3VYHfew7R0_p",
        "outputId": "4fca7bd9-9be3-48d4-c0c4-83442b0b139a"
      },
      "source": [
        "pip install wordsegment"
      ],
      "execution_count": null,
      "outputs": [
        {
          "output_type": "stream",
          "text": [
            "Requirement already satisfied: wordsegment in /usr/local/lib/python3.7/dist-packages (1.3.1)\n"
          ],
          "name": "stdout"
        }
      ]
    },
    {
      "cell_type": "code",
      "metadata": {
        "id": "TtghIPyxLNpx"
      },
      "source": [
        "import nltk\r\n",
        "import re\r\n",
        "import string\r\n",
        "import numpy as np\r\n",
        "import pandas as pd\r\n",
        "from nltk.corpus import stopwords\r\n",
        "from nltk.tokenize import word_tokenize\r\n",
        "from nltk.stem import PorterStemmer\r\n",
        "from nltk.stem import WordNetLemmatizer\r\n",
        "from wordsegment import segment, load\r\n"
      ],
      "execution_count": null,
      "outputs": []
    },
    {
      "cell_type": "code",
      "metadata": {
        "colab": {
          "base_uri": "https://localhost:8080/"
        },
        "id": "R_nCew1nQh-z",
        "outputId": "2d20f0ab-0c75-4358-bf0f-9e982d2b57de"
      },
      "source": [
        "nltk.download('punkt')\r\n",
        "nltk.download('wordnet')\r\n",
        "nltk.download('stopwords')"
      ],
      "execution_count": null,
      "outputs": [
        {
          "output_type": "stream",
          "text": [
            "[nltk_data] Downloading package punkt to /root/nltk_data...\n",
            "[nltk_data]   Package punkt is already up-to-date!\n",
            "[nltk_data] Downloading package wordnet to /root/nltk_data...\n",
            "[nltk_data]   Package wordnet is already up-to-date!\n",
            "[nltk_data] Downloading package stopwords to /root/nltk_data...\n",
            "[nltk_data]   Package stopwords is already up-to-date!\n"
          ],
          "name": "stdout"
        },
        {
          "output_type": "execute_result",
          "data": {
            "text/plain": [
              "True"
            ]
          },
          "metadata": {
            "tags": []
          },
          "execution_count": 3
        }
      ]
    },
    {
      "cell_type": "markdown",
      "metadata": {
        "id": "F9Z5DSVQoQsH"
      },
      "source": [
        "### Loading Data"
      ]
    },
    {
      "cell_type": "code",
      "metadata": {
        "colab": {
          "base_uri": "https://localhost:8080/"
        },
        "id": "6U-2sNm4R6HX",
        "outputId": "afa46f83-28f2-4f1f-e9dc-55f987e8477c"
      },
      "source": [
        "df = pd.read_csv(\"data_to_clean.csv\")\r\n",
        "df.head()\r\n"
      ],
      "execution_count": null,
      "outputs": [
        {
          "output_type": "execute_result",
          "data": {
            "text/html": [
              "<div>\n",
              "<style scoped>\n",
              "    .dataframe tbody tr th:only-of-type {\n",
              "        vertical-align: middle;\n",
              "    }\n",
              "\n",
              "    .dataframe tbody tr th {\n",
              "        vertical-align: top;\n",
              "    }\n",
              "\n",
              "    .dataframe thead th {\n",
              "        text-align: right;\n",
              "    }\n",
              "</style>\n",
              "<table border=\"1\" class=\"dataframe\">\n",
              "  <thead>\n",
              "    <tr style=\"text-align: right;\">\n",
              "      <th></th>\n",
              "      <th>Unnamed: 0</th>\n",
              "      <th>Tweet_ID</th>\n",
              "      <th>full_text</th>\n",
              "      <th>Sentiment_Label</th>\n",
              "    </tr>\n",
              "  </thead>\n",
              "  <tbody>\n",
              "    <tr>\n",
              "      <th>0</th>\n",
              "      <td>0</td>\n",
              "      <td>1353493911822454784</td>\n",
              "      <td>$ENZC Huge week ahead of us. We will set new h...</td>\n",
              "      <td>negative</td>\n",
              "    </tr>\n",
              "    <tr>\n",
              "      <th>1</th>\n",
              "      <td>1</td>\n",
              "      <td>1353539100448591875</td>\n",
              "      <td>Sen. Warren says there are 'lifetime consequen...</td>\n",
              "      <td>negative</td>\n",
              "    </tr>\n",
              "    <tr>\n",
              "      <th>2</th>\n",
              "      <td>2</td>\n",
              "      <td>1353562486125993984</td>\n",
              "      <td>Look, her dog really did save my daughter's li...</td>\n",
              "      <td>neutral</td>\n",
              "    </tr>\n",
              "    <tr>\n",
              "      <th>3</th>\n",
              "      <td>3</td>\n",
              "      <td>1353563705523376128</td>\n",
              "      <td>Oakland’s mayor &amp;amp; administrator are trying...</td>\n",
              "      <td>negative</td>\n",
              "    </tr>\n",
              "    <tr>\n",
              "      <th>4</th>\n",
              "      <td>4</td>\n",
              "      <td>1353586020000751616</td>\n",
              "      <td>Good thread https://t.co/rF5yytmv1y</td>\n",
              "      <td>positive</td>\n",
              "    </tr>\n",
              "  </tbody>\n",
              "</table>\n",
              "</div>"
            ],
            "text/plain": [
              "   Unnamed: 0  ...  Sentiment_Label\n",
              "0           0  ...         negative\n",
              "1           1  ...         negative\n",
              "2           2  ...          neutral\n",
              "3           3  ...         negative\n",
              "4           4  ...         positive\n",
              "\n",
              "[5 rows x 4 columns]"
            ]
          },
          "metadata": {
            "tags": []
          },
          "execution_count": 4
        }
      ]
    },
    {
      "cell_type": "markdown",
      "metadata": {
        "id": "s7TtXfEX-HYz"
      },
      "source": [
        "### Lower case"
      ]
    },
    {
      "cell_type": "code",
      "metadata": {
        "colab": {
          "base_uri": "https://localhost:8080/",
          "height": 204
        },
        "id": "wan0PDEuo4qA",
        "outputId": "849fbd99-428b-4ca0-c562-c0ba72433a00"
      },
      "source": [
        "for i in df.index:\r\n",
        "  df.at[i, 'full_text'] = df.at[i, 'full_text'].lower()\r\n",
        "\r\n",
        "df.head()\r\n",
        "\r\n",
        "  "
      ],
      "execution_count": null,
      "outputs": [
        {
          "output_type": "execute_result",
          "data": {
            "text/html": [
              "<div>\n",
              "<style scoped>\n",
              "    .dataframe tbody tr th:only-of-type {\n",
              "        vertical-align: middle;\n",
              "    }\n",
              "\n",
              "    .dataframe tbody tr th {\n",
              "        vertical-align: top;\n",
              "    }\n",
              "\n",
              "    .dataframe thead th {\n",
              "        text-align: right;\n",
              "    }\n",
              "</style>\n",
              "<table border=\"1\" class=\"dataframe\">\n",
              "  <thead>\n",
              "    <tr style=\"text-align: right;\">\n",
              "      <th></th>\n",
              "      <th>Unnamed: 0</th>\n",
              "      <th>Tweet_ID</th>\n",
              "      <th>full_text</th>\n",
              "      <th>Sentiment_Label</th>\n",
              "    </tr>\n",
              "  </thead>\n",
              "  <tbody>\n",
              "    <tr>\n",
              "      <th>0</th>\n",
              "      <td>0</td>\n",
              "      <td>1353493911822454784</td>\n",
              "      <td>$enzc huge week ahead of us. we will set new h...</td>\n",
              "      <td>negative</td>\n",
              "    </tr>\n",
              "    <tr>\n",
              "      <th>1</th>\n",
              "      <td>1</td>\n",
              "      <td>1353539100448591875</td>\n",
              "      <td>sen. warren says there are 'lifetime consequen...</td>\n",
              "      <td>negative</td>\n",
              "    </tr>\n",
              "    <tr>\n",
              "      <th>2</th>\n",
              "      <td>2</td>\n",
              "      <td>1353562486125993984</td>\n",
              "      <td>look, her dog really did save my daughter's li...</td>\n",
              "      <td>neutral</td>\n",
              "    </tr>\n",
              "    <tr>\n",
              "      <th>3</th>\n",
              "      <td>3</td>\n",
              "      <td>1353563705523376128</td>\n",
              "      <td>oakland’s mayor &amp;amp; administrator are trying...</td>\n",
              "      <td>negative</td>\n",
              "    </tr>\n",
              "    <tr>\n",
              "      <th>4</th>\n",
              "      <td>4</td>\n",
              "      <td>1353586020000751616</td>\n",
              "      <td>good thread https://t.co/rf5yytmv1y</td>\n",
              "      <td>positive</td>\n",
              "    </tr>\n",
              "  </tbody>\n",
              "</table>\n",
              "</div>"
            ],
            "text/plain": [
              "   Unnamed: 0  ...  Sentiment_Label\n",
              "0           0  ...         negative\n",
              "1           1  ...         negative\n",
              "2           2  ...          neutral\n",
              "3           3  ...         negative\n",
              "4           4  ...         positive\n",
              "\n",
              "[5 rows x 4 columns]"
            ]
          },
          "metadata": {
            "tags": []
          },
          "execution_count": 5
        }
      ]
    },
    {
      "cell_type": "markdown",
      "metadata": {
        "id": "jcjfVKwY70Tm"
      },
      "source": [
        "###URL removal"
      ]
    },
    {
      "cell_type": "code",
      "metadata": {
        "id": "CW3ZuKRF78ez"
      },
      "source": [
        "def remove_urls(text):\r\n",
        "    url_pattern = re.compile(r'https?://\\S+|www\\.\\S+')\r\n",
        "    return url_pattern.sub(r'', text)"
      ],
      "execution_count": null,
      "outputs": []
    },
    {
      "cell_type": "code",
      "metadata": {
        "colab": {
          "base_uri": "https://localhost:8080/"
        },
        "id": "HUXHI3Z-8BES",
        "outputId": "6629aa70-3099-4df1-e279-7df4ff59b9c0"
      },
      "source": [
        "for i in df.index:\r\n",
        "  df.at[i, \"full_text\"] = remove_urls(df.at[i, \"full_text\"])\r\n",
        "\r\n",
        "df['full_text'][0]\r\n"
      ],
      "execution_count": null,
      "outputs": [
        {
          "output_type": "execute_result",
          "data": {
            "application/vnd.google.colaboratory.intrinsic+json": {
              "type": "string"
            },
            "text/plain": [
              "'$enzc huge week ahead of us. we will set new highs. pr is about to drop any day now. huge partnerships on the way. they are the kings of monoclonal antibodies. they have multiple patents that nobody can touch. they are ahead of the game. 🔥 #hiv #aids #covid #ms #cancer @tamu '"
            ]
          },
          "metadata": {
            "tags": []
          },
          "execution_count": 7
        }
      ]
    },
    {
      "cell_type": "markdown",
      "metadata": {
        "id": "TVfhTXsP-NSK"
      },
      "source": [
        "###Remove numbers"
      ]
    },
    {
      "cell_type": "code",
      "metadata": {
        "colab": {
          "base_uri": "https://localhost:8080/",
          "height": 204
        },
        "id": "MO1rpt_QpUvj",
        "outputId": "804db240-9928-4448-82b1-c5240e70e575"
      },
      "source": [
        "for i in df.index:\r\n",
        "  df.at[i, \"full_text\"] = re.sub(r\"\\d+\", \"\", df.at[i, \"full_text\"])\r\n",
        "\r\n",
        "df.head()\r\n"
      ],
      "execution_count": null,
      "outputs": [
        {
          "output_type": "execute_result",
          "data": {
            "text/html": [
              "<div>\n",
              "<style scoped>\n",
              "    .dataframe tbody tr th:only-of-type {\n",
              "        vertical-align: middle;\n",
              "    }\n",
              "\n",
              "    .dataframe tbody tr th {\n",
              "        vertical-align: top;\n",
              "    }\n",
              "\n",
              "    .dataframe thead th {\n",
              "        text-align: right;\n",
              "    }\n",
              "</style>\n",
              "<table border=\"1\" class=\"dataframe\">\n",
              "  <thead>\n",
              "    <tr style=\"text-align: right;\">\n",
              "      <th></th>\n",
              "      <th>Unnamed: 0</th>\n",
              "      <th>Tweet_ID</th>\n",
              "      <th>full_text</th>\n",
              "      <th>Sentiment_Label</th>\n",
              "    </tr>\n",
              "  </thead>\n",
              "  <tbody>\n",
              "    <tr>\n",
              "      <th>0</th>\n",
              "      <td>0</td>\n",
              "      <td>1353493911822454784</td>\n",
              "      <td>$enzc huge week ahead of us. we will set new h...</td>\n",
              "      <td>negative</td>\n",
              "    </tr>\n",
              "    <tr>\n",
              "      <th>1</th>\n",
              "      <td>1</td>\n",
              "      <td>1353539100448591875</td>\n",
              "      <td>sen. warren says there are 'lifetime consequen...</td>\n",
              "      <td>negative</td>\n",
              "    </tr>\n",
              "    <tr>\n",
              "      <th>2</th>\n",
              "      <td>2</td>\n",
              "      <td>1353562486125993984</td>\n",
              "      <td>look, her dog really did save my daughter's li...</td>\n",
              "      <td>neutral</td>\n",
              "    </tr>\n",
              "    <tr>\n",
              "      <th>3</th>\n",
              "      <td>3</td>\n",
              "      <td>1353563705523376128</td>\n",
              "      <td>oakland’s mayor &amp;amp; administrator are trying...</td>\n",
              "      <td>negative</td>\n",
              "    </tr>\n",
              "    <tr>\n",
              "      <th>4</th>\n",
              "      <td>4</td>\n",
              "      <td>1353586020000751616</td>\n",
              "      <td>good thread</td>\n",
              "      <td>positive</td>\n",
              "    </tr>\n",
              "  </tbody>\n",
              "</table>\n",
              "</div>"
            ],
            "text/plain": [
              "   Unnamed: 0  ...  Sentiment_Label\n",
              "0           0  ...         negative\n",
              "1           1  ...         negative\n",
              "2           2  ...          neutral\n",
              "3           3  ...         negative\n",
              "4           4  ...         positive\n",
              "\n",
              "[5 rows x 4 columns]"
            ]
          },
          "metadata": {
            "tags": []
          },
          "execution_count": 8
        }
      ]
    },
    {
      "cell_type": "markdown",
      "metadata": {
        "id": "kG_crM0O-vrP"
      },
      "source": [
        "###Remove punctuation"
      ]
    },
    {
      "cell_type": "code",
      "metadata": {
        "colab": {
          "base_uri": "https://localhost:8080/"
        },
        "id": "5Umb1ueX-jjA",
        "outputId": "604d2eab-4d38-4267-bfd5-07f80cbd4ec4"
      },
      "source": [
        "for i in df.index:\r\n",
        "  df.at[i, \"full_text\"] = df.at[i, \"full_text\"].translate(str.maketrans(\"\", \"\", string.punctuation))\r\n",
        "\r\n",
        "df.head()\r\n"
      ],
      "execution_count": null,
      "outputs": [
        {
          "output_type": "execute_result",
          "data": {
            "text/html": [
              "<div>\n",
              "<style scoped>\n",
              "    .dataframe tbody tr th:only-of-type {\n",
              "        vertical-align: middle;\n",
              "    }\n",
              "\n",
              "    .dataframe tbody tr th {\n",
              "        vertical-align: top;\n",
              "    }\n",
              "\n",
              "    .dataframe thead th {\n",
              "        text-align: right;\n",
              "    }\n",
              "</style>\n",
              "<table border=\"1\" class=\"dataframe\">\n",
              "  <thead>\n",
              "    <tr style=\"text-align: right;\">\n",
              "      <th></th>\n",
              "      <th>Unnamed: 0</th>\n",
              "      <th>Tweet_ID</th>\n",
              "      <th>full_text</th>\n",
              "      <th>Sentiment_Label</th>\n",
              "    </tr>\n",
              "  </thead>\n",
              "  <tbody>\n",
              "    <tr>\n",
              "      <th>0</th>\n",
              "      <td>0</td>\n",
              "      <td>1353493911822454784</td>\n",
              "      <td>enzc huge week ahead of us we will set new hig...</td>\n",
              "      <td>negative</td>\n",
              "    </tr>\n",
              "    <tr>\n",
              "      <th>1</th>\n",
              "      <td>1</td>\n",
              "      <td>1353539100448591875</td>\n",
              "      <td>sen warren says there are lifetime consequence...</td>\n",
              "      <td>negative</td>\n",
              "    </tr>\n",
              "    <tr>\n",
              "      <th>2</th>\n",
              "      <td>2</td>\n",
              "      <td>1353562486125993984</td>\n",
              "      <td>look her dog really did save my daughters life...</td>\n",
              "      <td>neutral</td>\n",
              "    </tr>\n",
              "    <tr>\n",
              "      <th>3</th>\n",
              "      <td>3</td>\n",
              "      <td>1353563705523376128</td>\n",
              "      <td>oakland’s mayor amp administrator are trying t...</td>\n",
              "      <td>negative</td>\n",
              "    </tr>\n",
              "    <tr>\n",
              "      <th>4</th>\n",
              "      <td>4</td>\n",
              "      <td>1353586020000751616</td>\n",
              "      <td>good thread</td>\n",
              "      <td>positive</td>\n",
              "    </tr>\n",
              "  </tbody>\n",
              "</table>\n",
              "</div>"
            ],
            "text/plain": [
              "   Unnamed: 0  ...  Sentiment_Label\n",
              "0           0  ...         negative\n",
              "1           1  ...         negative\n",
              "2           2  ...          neutral\n",
              "3           3  ...         negative\n",
              "4           4  ...         positive\n",
              "\n",
              "[5 rows x 4 columns]"
            ]
          },
          "metadata": {
            "tags": []
          },
          "execution_count": 9
        }
      ]
    },
    {
      "cell_type": "code",
      "metadata": {
        "id": "rHmKBpOS-RVZ"
      },
      "source": [
        "def remove_more(full_full_full_full_text):\r\n",
        "  return full_full_full_full_text.replace('‘', '').replace('’', '').replace('”', '').replace('“' ,'').replace('•', '').replace('—', '').replace('किसानआंदोलनजारीरहेगा', '')\r\n",
        "\r\n",
        "for i in df.index:\r\n",
        "  df.at[i, \"full_text\"] = remove_more(df.at[i, \"full_text\"])\r\n",
        "\r\n",
        "for i in df.index:\r\n",
        "  df.at[i, \"full_text\"] = re.sub(\"[^a-z ]+\", \"\", df.at[i, \"full_text\"])\r\n",
        "\r\n"
      ],
      "execution_count": null,
      "outputs": []
    },
    {
      "cell_type": "code",
      "metadata": {
        "colab": {
          "base_uri": "https://localhost:8080/"
        },
        "id": "MawLzufkPQzH",
        "outputId": "ac59e95a-198d-41d7-98e1-ec5b38cbf6d9"
      },
      "source": [
        "df['full_text'][414]"
      ],
      "execution_count": null,
      "outputs": [
        {
          "output_type": "execute_result",
          "data": {
            "application/vnd.google.colaboratory.intrinsic+json": {
              "type": "string"
            },
            "text/plain": [
              "'last chance to participate in the bn h eugreendeal call closing today help  respond to the climatecrisis protect our ecosystems amp biodiversity amp accelerate recovery from the covid crisissubmit your application by  pm '"
            ]
          },
          "metadata": {
            "tags": []
          },
          "execution_count": 11
        }
      ]
    },
    {
      "cell_type": "markdown",
      "metadata": {
        "id": "V8oB-PG0sjFm"
      },
      "source": [
        "###Emoji removal\r\n"
      ]
    },
    {
      "cell_type": "code",
      "metadata": {
        "id": "MWRCTzyrsk1M"
      },
      "source": [
        "def remove_emojis(data):\r\n",
        "    emoj = re.compile(\"[\"\r\n",
        "        u\"\\U0001F600-\\U0001F64F\"  # emoticons\r\n",
        "        u\"\\U0001F300-\\U0001F5FF\"  # symbols & pictographs\r\n",
        "        u\"\\U0001F680-\\U0001F6FF\"  # transport & map symbols\r\n",
        "        u\"\\U0001F1E0-\\U0001F1FF\"  # flags (iOS)\r\n",
        "        u\"\\U00002500-\\U00002BEF\"  # chinese char\r\n",
        "        u\"\\U00002702-\\U000027B0\"\r\n",
        "        u\"\\U00002702-\\U000027B0\"\r\n",
        "        u\"\\U000024C2-\\U0001F251\"\r\n",
        "        u\"\\U0001f926-\\U0001f937\"\r\n",
        "        u\"\\U00010000-\\U0010ffff\"\r\n",
        "        u\"\\u2640-\\u2642\" \r\n",
        "        u\"\\u2600-\\u2B55\"\r\n",
        "        u\"\\u200d\"\r\n",
        "        u\"\\u23cf\"\r\n",
        "        u\"\\u23e9\"\r\n",
        "        u\"\\u231a\"\r\n",
        "        u\"\\ufe0f\"  # dingbats\r\n",
        "        u\"\\u3030\"\r\n",
        "                      \"]+\", re.UNICODE)\r\n",
        "    return re.sub(emoj, '', data)"
      ],
      "execution_count": null,
      "outputs": []
    },
    {
      "cell_type": "code",
      "metadata": {
        "colab": {
          "base_uri": "https://localhost:8080/"
        },
        "id": "kpd6jgDlssCe",
        "outputId": "37f6a103-2757-432c-de4b-f79e146fb2d6"
      },
      "source": [
        "for i in df.index:\r\n",
        "  df.at[i, \"full_text\"] = df.at[i, \"full_text\"].strip()\r\n",
        "\r\n",
        "df['full_text'].apply(remove_emojis)"
      ],
      "execution_count": null,
      "outputs": [
        {
          "output_type": "execute_result",
          "data": {
            "text/plain": [
              "0       enzc huge week ahead of us we will set new hig...\n",
              "1       sen warren says there are lifetime consequence...\n",
              "2       look her dog really did save my daughters life...\n",
              "3       oaklands mayor amp administrator are trying to...\n",
              "4                                             good thread\n",
              "                              ...                        \n",
              "9718    my dad has cancer and my teacher mother is the...\n",
              "9719          repkatieporter they also lost track of this\n",
              "9720    the covid vaccine is not controversial in preg...\n",
              "9721    the smugness of msm acting as if they dont con...\n",
              "9722    oh to be a less than mediocre white dude in a ...\n",
              "Name: full_text, Length: 9723, dtype: object"
            ]
          },
          "metadata": {
            "tags": []
          },
          "execution_count": 13
        }
      ]
    },
    {
      "cell_type": "code",
      "metadata": {
        "colab": {
          "base_uri": "https://localhost:8080/"
        },
        "id": "fBNZymTI8lrV",
        "outputId": "eb552b03-df16-4741-d1e4-bcffb8ea3214"
      },
      "source": [
        "df['full_text'][0]"
      ],
      "execution_count": null,
      "outputs": [
        {
          "output_type": "execute_result",
          "data": {
            "application/vnd.google.colaboratory.intrinsic+json": {
              "type": "string"
            },
            "text/plain": [
              "'enzc huge week ahead of us we will set new highs pr is about to drop any day now huge partnerships on the way they are the kings of monoclonal antibodies they have multiple patents that nobody can touch they are ahead of the game  hiv aids covid ms cancer tamu'"
            ]
          },
          "metadata": {
            "tags": []
          },
          "execution_count": 14
        }
      ]
    },
    {
      "cell_type": "markdown",
      "metadata": {
        "id": "UQyBKva3xy34"
      },
      "source": [
        "###Word Segmentation\r\n"
      ]
    },
    {
      "cell_type": "code",
      "metadata": {
        "id": "XmOLMkPex1X6"
      },
      "source": [
        "load()\r\n",
        "\r\n",
        "for i in df.index:\r\n",
        "  df.at[i, \"full_text\"] = \" \".join(word for word in segment(df.at[i, \"full_text\"]))\r\n"
      ],
      "execution_count": null,
      "outputs": []
    },
    {
      "cell_type": "markdown",
      "metadata": {
        "id": "rDrfSg0t_Lj4"
      },
      "source": [
        "### Remove white spaces"
      ]
    },
    {
      "cell_type": "code",
      "metadata": {
        "id": "8OeAl93j_ALB"
      },
      "source": [
        "for i in df.index:\r\n",
        "  df.at[i, \"full_text\"] = df.at[i, \"full_text\"].strip()\r\n",
        "\r\n",
        "df.head()"
      ],
      "execution_count": null,
      "outputs": []
    },
    {
      "cell_type": "markdown",
      "metadata": {
        "id": "qz586oaw_gvr"
      },
      "source": [
        "###Remove stop words"
      ]
    },
    {
      "cell_type": "code",
      "metadata": {
        "id": "h2_ImHQX_XtI"
      },
      "source": [
        "stop_words = set(stopwords.words('english'))\r\n",
        "\r\n",
        "for i in df.index:\r\n",
        "  tokens = word_tokenize(df.at[i, \"full_text\"])\r\n",
        "  result = [i for i in tokens if not i in stop_words]\r\n",
        "  df.at[i, \"full_text\"] = \" \".join(e for e in result)\r\n",
        "\r\n",
        "df['full_text'][1]\r\n"
      ],
      "execution_count": null,
      "outputs": []
    },
    {
      "cell_type": "markdown",
      "metadata": {
        "id": "Rb69kCc6Ak2v"
      },
      "source": [
        "###Lemmatization"
      ]
    },
    {
      "cell_type": "code",
      "metadata": {
        "id": "0ove4nbvAQPQ"
      },
      "source": [
        "lemmatizer=WordNetLemmatizer()\r\n",
        "\r\n",
        "for i in df.index:\r\n",
        "  result_list = word_tokenize(df.at[i, \"full_text\"])\r\n",
        "  df.at[i, \"full_text\"] = ' '.join(lemmatizer.lemmatize(word) for word in result_list)\r\n",
        "\r\n",
        "df.head()"
      ],
      "execution_count": null,
      "outputs": []
    },
    {
      "cell_type": "markdown",
      "metadata": {
        "id": "DPyRO2qdDkdn"
      },
      "source": [
        "### Labeling"
      ]
    },
    {
      "cell_type": "code",
      "metadata": {
        "id": "ltFdpUbwDkR-"
      },
      "source": [
        "for i in df.index:\r\n",
        "  if df.at[i, \"Sentiment_Label\"] == 'negative':\r\n",
        "    df.at[i, \"Sentiment_Label\"] = 0\r\n",
        "\r\n",
        "  if df.at[i, \"Sentiment_Label\"] == 'neutral':\r\n",
        "    df.at[i, \"Sentiment_Label\"] = 1\r\n",
        "\r\n",
        "  if df.at[i, \"Sentiment_Label\"] == 'positive':\r\n",
        "    df.at[i, \"Sentiment_Label\"] = 2"
      ],
      "execution_count": null,
      "outputs": []
    },
    {
      "cell_type": "markdown",
      "metadata": {
        "id": "40iRLTJliwoL"
      },
      "source": [
        "###Droping Empty rows"
      ]
    },
    {
      "cell_type": "code",
      "metadata": {
        "id": "LB_BNtS5i0dL"
      },
      "source": [
        "for i in df.index:\r\n",
        "  if df.at[i, \"full_text\"] == \"\":\r\n",
        "    df.drop(i, inplace=True)"
      ],
      "execution_count": null,
      "outputs": []
    },
    {
      "cell_type": "markdown",
      "metadata": {
        "id": "DFwC1Gq1FR-p"
      },
      "source": [
        "###Convert to csv"
      ]
    },
    {
      "cell_type": "code",
      "metadata": {
        "id": "EZEN2KIKAtjp"
      },
      "source": [
        "df.to_csv('cleaned_data_final4.csv', index=False)"
      ],
      "execution_count": null,
      "outputs": []
    }
  ]
}