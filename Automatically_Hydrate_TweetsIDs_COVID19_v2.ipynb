{
  "nbformat": 4,
  "nbformat_minor": 0,
  "metadata": {
    "colab": {
      "name": "Automatically_Hydrate_TweetsIDs_COVID19_v2.ipynb",
      "provenance": [],
      "collapsed_sections": [],
      "include_colab_link": true
    },
    "kernelspec": {
      "name": "python3",
      "display_name": "Python 3"
    }
  },
  "cells": [
    {
      "cell_type": "markdown",
      "metadata": {
        "id": "view-in-github",
        "colab_type": "text"
      },
      "source": [
        "<a href=\"https://colab.research.google.com/github/AliGhadirii/Covid19-Sentiment/blob/main/Automatically_Hydrate_TweetsIDs_COVID19_v2.ipynb\" target=\"_parent\"><img src=\"https://colab.research.google.com/assets/colab-badge.svg\" alt=\"Open In Colab\"/></a>"
      ]
    },
    {
      "cell_type": "markdown",
      "metadata": {
        "id": "xQiik2HFUtqL"
      },
      "source": [
        "\n",
        "\n",
        "\n",
        "<center><b>© 2020. Content is made available under the CC-BY-NC-ND 4.0 license. Christian Lopez, lopezbec@lafayette.edu/  Malolan Vasu, vasum@lafayette.edu <b><center>"
      ]
    },
    {
      "cell_type": "markdown",
      "metadata": {
        "id": "TwMczOoPVH6e"
      },
      "source": [
        "**UPDATED ON 10-18-2020**\n"
      ]
    },
    {
      "cell_type": "markdown",
      "metadata": {
        "id": "mmFBUngZaxt7"
      },
      "source": [
        "<table align=\"left\">\n",
        "  <td>\n",
        "    <a target=\"_blank\" href=\"https://colab.research.google.com/github/lopezbec/COVID19_Tweets_Dataset/blob/master/Automatically_Hydrate_TweetsIDs_COVID19_v2.ipynb\"><img src=\"https://www.tensorflow.org/images/colab_logo_32px.png\" />Run in Google Colab</a>\n",
        "  </td>\n",
        "</table>"
      ]
    },
    {
      "cell_type": "markdown",
      "metadata": {
        "id": "wrI81Xn6wh0d"
      },
      "source": [
        "# **Notebook to automatically \"hydrate\" tweets-ID**\n",
        "\n",
        "This notebook will allow you to automatically hydrate the tweets-ID from our [COVID19_Tweets_dataset GitHub repository](https://github.com/lopezbec/COVID19_Tweets_Dataset).\n",
        "\n",
        "\n",
        "You can run this notebook directly on the cloud using Google Colab [(see how to tutorials)]( https://colab.research.google.com/notebooks/welcome.ipynb#scrollTo=xitplqMNk_Hc) and Google Drive.\n",
        "\n",
        "In order to hydrate the tweet-IDs using [TWARC](https://github.com/DocNow/twarc) you need to create a [Twitter Developer Account]( https://developer.twitter.com/en/apply-for-access).\n",
        "\n",
        "First run the Initialization block to set up the required libraries. Then, run the Configuration block and choose your required configuration for tweet IDs to hydrate (dates needed, keywords needed). Finally, run the Hydrate block.  In the case that the code unexpectedly stops in the hydrate phase, you only need to run Initialization and Hydration. You aren't required to run configuration.\n"
      ]
    },
    {
      "cell_type": "markdown",
      "metadata": {
        "id": "DbVmAxxGHUjO"
      },
      "source": [
        "# Initialization"
      ]
    },
    {
      "cell_type": "markdown",
      "metadata": {
        "id": "G-Zr5kB6wknZ"
      },
      "source": [
        "### Mount Drive"
      ]
    },
    {
      "cell_type": "markdown",
      "metadata": {
        "id": "dHzFzMoOV0tu"
      },
      "source": [
        "The code will clone part the repository and place it in your Google drive. Also, the notebook will place all the hydrated tweets in your Google Drive. Here you need to type where in your Google Drive you would like the information stored"
      ]
    },
    {
      "cell_type": "code",
      "metadata": {
        "id": "aeimRLrjwpRr",
        "cellView": "form",
        "colab": {
          "base_uri": "https://localhost:8080/"
        },
        "outputId": "89dc2926-46ac-43c8-c408-b096f2988124"
      },
      "source": [
        "#@title Set up Directory { run: \"auto\"}\n",
        "import os\n",
        "from IPython.display import clear_output\n",
        "from google.colab import drive \n",
        "from IPython.display import clear_output\n",
        "drive.mount('/content/gdrive')\n",
        "working_directory = 'My Drive/COVID19_Tweets' #@param {type:\"string\"}\n",
        "wd=\"/content/gdrive/\"+working_directory\n",
        "os.chdir(wd)\n",
        "\n",
        "dirpath = os.getcwd()\n",
        "print(\"current directory is : \" + dirpath)\n"
      ],
      "execution_count": null,
      "outputs": [
        {
          "output_type": "stream",
          "text": [
            "Drive already mounted at /content/gdrive; to attempt to forcibly remount, call drive.mount(\"/content/gdrive\", force_remount=True).\n",
            "current directory is : /content/gdrive/My Drive/COVID19_Tweets\n"
          ],
          "name": "stdout"
        }
      ]
    },
    {
      "cell_type": "markdown",
      "metadata": {
        "id": "RDzd7FUKFviv"
      },
      "source": [
        "### Install twarc"
      ]
    },
    {
      "cell_type": "code",
      "metadata": {
        "id": "jGvHm-ggFubK"
      },
      "source": [
        "%pip install twarc\n",
        "%pip install jsonlines\n",
        "%pip install wget\n",
        "clear_output()"
      ],
      "execution_count": null,
      "outputs": []
    },
    {
      "cell_type": "code",
      "metadata": {
        "id": "1gBPP8oJGDqM",
        "colab": {
          "base_uri": "https://localhost:8080/"
        },
        "outputId": "79aad97e-e595-4043-e1ee-1c578930fca9"
      },
      "source": [
        "#Check if TWARC was installed correctly on the Virtual Machine\n",
        "%pip show twarc\n",
        "%pip show jsonlines"
      ],
      "execution_count": null,
      "outputs": [
        {
          "output_type": "stream",
          "text": [
            "Name: twarc\n",
            "Version: 1.12.1\n",
            "Summary: Archive tweets from the command line\n",
            "Home-page: https://github.com/docnow/twarc\n",
            "Author: Ed Summers\n",
            "Author-email: ehs@pobox.com\n",
            "License: UNKNOWN\n",
            "Location: /usr/local/lib/python3.7/dist-packages\n",
            "Requires: python-dateutil, pytest, requests-oauthlib\n",
            "Required-by: \n",
            "Name: jsonlines\n",
            "Version: 2.0.0\n",
            "Summary: Library with helpers for the jsonlines file format\n",
            "Home-page: https://github.com/wbolster/jsonlines\n",
            "Author: Wouter Bolsterlee\n",
            "Author-email: wouter@bolsterl.ee\n",
            "License: BSD\n",
            "Location: /usr/local/lib/python3.7/dist-packages\n",
            "Requires: \n",
            "Required-by: \n"
          ],
          "name": "stdout"
        }
      ]
    },
    {
      "cell_type": "markdown",
      "metadata": {
        "id": "fEsz47hdFHtW"
      },
      "source": [
        "### Twitter API Keys"
      ]
    },
    {
      "cell_type": "code",
      "metadata": {
        "id": "et0_5DEEFNpW",
        "cellView": "form"
      },
      "source": [
        "#@title Insert API Keys here { run : \"auto\"}\n",
        "from twarc import Twarc\n",
        "\n",
        "# These keys are received after applying for a twitter developer account\n",
        "\n",
        "consumer_key = \"nXWiboTnt982fpxiU6TMcPlWm\" #@param {type:\"string\"}\n",
        "consumer_secret = \"k7uKIvXEvZufA3U4V0JVwZmzi1Lw4Cve2SvSx11O7tEhSYo3YE\" #@param {type:\"string\"}\n",
        "access_token = \"1019462216469266432-yzYtxQKYNzB9eSz39bO1kgfOR86yX2\" #@param {type:\"string\"}\n",
        "access_token_secret = \"h5pU1rKB1up0mpq3RyYoOzp2Ebn6ZWpZAumzfKt4XzRrN\" #@param {type:\"string\"}\n",
        "\n",
        "t = Twarc(consumer_key, consumer_secret, access_token, access_token_secret)"
      ],
      "execution_count": null,
      "outputs": []
    },
    {
      "cell_type": "markdown",
      "metadata": {
        "id": "OyS66qo29K_g"
      },
      "source": [
        "### Download Github Files onto Drive for given dates"
      ]
    },
    {
      "cell_type": "markdown",
      "metadata": {
        "id": "YZiHM582ReTh"
      },
      "source": [
        "You need to frist indicate the date range of file you would like to hydrate. Rememeber that the Start_date cannot be before 2020-01-22. If a incorrect end date is selected it will be not considered.  At the end you will see how many files you are requesting to download \n",
        "\n",
        "(it is assumed you want all hours from a given day, if you dont want some hour, you will need to deleted the hours you wont want).\n"
      ]
    },
    {
      "cell_type": "code",
      "metadata": {
        "id": "UeLOiUghTpKc",
        "cellView": "form",
        "colab": {
          "base_uri": "https://localhost:8080/"
        },
        "outputId": "a466686f-eec8-4a5b-b8de-a119c3b939fa"
      },
      "source": [
        "#@title Date fields\n",
        "import pandas as pd\n",
        "Start_date = '2021-01-25' #@param {type:\"date\"}\n",
        "#@title Date fields\n",
        "End_date = '2021-01-30' #@param {type:\"date\"}\n",
        "\n",
        "\n",
        "\n",
        "datelist = pd.date_range(Start_date, End_date).tolist()\n",
        "number_files=0\n",
        "for date in datelist:\n",
        "  for h in ['00','01', '02','03','04','05','06','07','08','09','10','11','12','13','14','15','16','17','18','19','20','21','22','23']:\n",
        "    number_files=number_files+1\n",
        "\n",
        "print(\"You have requested to download a total of \"+ str(number_files) + ' files \\n The more files you download at once the longer it will take to upload to your Drive')"
      ],
      "execution_count": null,
      "outputs": [
        {
          "output_type": "stream",
          "text": [
            "You have requested to download a total of 144 files \n",
            " The more files you download at once the longer it will take to upload to your Drive\n"
          ],
          "name": "stdout"
        }
      ]
    },
    {
      "cell_type": "markdown",
      "metadata": {
        "id": "5VtnuqvTgIJO"
      },
      "source": [
        "The code below will create a new directory `Summary_Details_files` and save all the `.csv. files from the reposiory that were requested on that directory."
      ]
    },
    {
      "cell_type": "code",
      "metadata": {
        "id": "PPbChi1mbVHv"
      },
      "source": [
        "\n",
        "from datetime import datetime\n",
        "import wget\n",
        "\n",
        "os.chdir('Summary_Details_files')\n",
        "\n",
        "datelist = pd.date_range(Start_date, End_date).tolist()\n",
        "files_list=[]\n",
        "for date in datelist:\n",
        "  day=date.strftime(\"%Y_%m_%d\")\n",
        "  p1=\"https://raw.githubusercontent.com/lopezbec/COVID19_Tweets_Dataset/master/Summary_Details/\"\n",
        "  m=day[0:7]\n",
        "  for h in ['00','01', '02','03','04','05','06','07','08','09','10','11','12','13','14','15','16','17','18','19','20','21','22','23']:\n",
        "    file=p1+m+\"/\"+day+\"_\"+str(h)+\"_Summary_Details.csv\"\n",
        "    wget.download(file)\n",
        "\n",
        "\n",
        "os.chdir('../Summary_Sentiment_files')\n",
        "\n",
        "datelist2 = pd.date_range(Start_date, End_date).tolist()\n",
        "files_list2=[]\n",
        "for date in datelist2:\n",
        "  day=date.strftime(\"%Y_%m_%d\")\n",
        "  p1=\"https://raw.githubusercontent.com/lopezbec/COVID19_Tweets_Dataset/master/Summary_Sentiment/\"\n",
        "  m=day[0:7]\n",
        "  for h in ['00','01', '02','03','04','05','06','07','08','09','10','11','12','13','14','15','16','17','18','19','20','21','22','23']:\n",
        "    file=p1+m+\"/\"+day+\"_\"+str(h)+\"_Summary_Sentiment.csv\"\n",
        "    wget.download(file)\n"
      ],
      "execution_count": null,
      "outputs": []
    },
    {
      "cell_type": "markdown",
      "metadata": {
        "id": "ASdYyTqI9RUG"
      },
      "source": [
        "# Choose Settings Tweets_IDs"
      ]
    },
    {
      "cell_type": "markdown",
      "metadata": {
        "id": "jo52kGhpk69s"
      },
      "source": [
        "This are all the files you requested:"
      ]
    },
    {
      "cell_type": "code",
      "metadata": {
        "id": "uLREJkIRjvDh",
        "colab": {
          "base_uri": "https://localhost:8080/",
          "height": 453
        },
        "outputId": "53efa1a5-08a3-4083-e718-41b8f39503d2"
      },
      "source": [
        "import os\n",
        "import pandas as pd \n",
        "\n",
        "Summary_Details=pd.DataFrame()\n",
        "os.chdir('../Summary_Details_files')\n",
        "directory =  os.getcwd()\n",
        "for root,dirs,files in os.walk(directory):\n",
        "  for file in files:\n",
        "    if file.endswith(\".csv\"):\n",
        "      data = pd.read_csv(file) \n",
        "      frames = [Summary_Details, data]\n",
        "      Summary_Details = pd.concat(frames)\n",
        "Summary_Details"
      ],
      "execution_count": null,
      "outputs": [
        {
          "output_type": "stream",
          "text": [
            "/usr/local/lib/python3.7/dist-packages/IPython/core/interactiveshell.py:2718: DtypeWarning: Columns (6) have mixed types.Specify dtype option on import or set low_memory=False.\n",
            "  interactivity=interactivity, compiler=compiler, result=result)\n"
          ],
          "name": "stderr"
        },
        {
          "output_type": "execute_result",
          "data": {
            "text/html": [
              "<div>\n",
              "<style scoped>\n",
              "    .dataframe tbody tr th:only-of-type {\n",
              "        vertical-align: middle;\n",
              "    }\n",
              "\n",
              "    .dataframe tbody tr th {\n",
              "        vertical-align: top;\n",
              "    }\n",
              "\n",
              "    .dataframe thead th {\n",
              "        text-align: right;\n",
              "    }\n",
              "</style>\n",
              "<table border=\"1\" class=\"dataframe\">\n",
              "  <thead>\n",
              "    <tr style=\"text-align: right;\">\n",
              "      <th></th>\n",
              "      <th>Tweet_ID</th>\n",
              "      <th>Language</th>\n",
              "      <th>Geolocation_coordinate</th>\n",
              "      <th>RT</th>\n",
              "      <th>Likes</th>\n",
              "      <th>Retweets</th>\n",
              "      <th>Country</th>\n",
              "      <th>Date Created</th>\n",
              "    </tr>\n",
              "  </thead>\n",
              "  <tbody>\n",
              "    <tr>\n",
              "      <th>0</th>\n",
              "      <td>1353494053153697792</td>\n",
              "      <td>en</td>\n",
              "      <td>NO</td>\n",
              "      <td>YES</td>\n",
              "      <td>0</td>\n",
              "      <td>1</td>\n",
              "      <td>NaN</td>\n",
              "      <td>Mon Jan 25 00:05:03 +0000 2021</td>\n",
              "    </tr>\n",
              "    <tr>\n",
              "      <th>1</th>\n",
              "      <td>1353503745477201921</td>\n",
              "      <td>en</td>\n",
              "      <td>NO</td>\n",
              "      <td>NO</td>\n",
              "      <td>32</td>\n",
              "      <td>0</td>\n",
              "      <td>NaN</td>\n",
              "      <td>Mon Jan 25 00:43:34 +0000 2021</td>\n",
              "    </tr>\n",
              "    <tr>\n",
              "      <th>2</th>\n",
              "      <td>1353492779863687168</td>\n",
              "      <td>in</td>\n",
              "      <td>NO</td>\n",
              "      <td>YES</td>\n",
              "      <td>0</td>\n",
              "      <td>3829</td>\n",
              "      <td>NaN</td>\n",
              "      <td>Mon Jan 25 00:00:00 +0000 2021</td>\n",
              "    </tr>\n",
              "    <tr>\n",
              "      <th>3</th>\n",
              "      <td>1353492779889025024</td>\n",
              "      <td>und</td>\n",
              "      <td>NO</td>\n",
              "      <td>NO</td>\n",
              "      <td>0</td>\n",
              "      <td>0</td>\n",
              "      <td>NaN</td>\n",
              "      <td>Mon Jan 25 00:00:00 +0000 2021</td>\n",
              "    </tr>\n",
              "    <tr>\n",
              "      <th>4</th>\n",
              "      <td>1353492779930939393</td>\n",
              "      <td>es</td>\n",
              "      <td>NO</td>\n",
              "      <td>NO</td>\n",
              "      <td>1</td>\n",
              "      <td>0</td>\n",
              "      <td>NaN</td>\n",
              "      <td>Mon Jan 25 00:00:00 +0000 2021</td>\n",
              "    </tr>\n",
              "    <tr>\n",
              "      <th>...</th>\n",
              "      <td>...</td>\n",
              "      <td>...</td>\n",
              "      <td>...</td>\n",
              "      <td>...</td>\n",
              "      <td>...</td>\n",
              "      <td>...</td>\n",
              "      <td>...</td>\n",
              "      <td>...</td>\n",
              "    </tr>\n",
              "    <tr>\n",
              "      <th>178883</th>\n",
              "      <td>1355667099495096324</td>\n",
              "      <td>en</td>\n",
              "      <td>NO</td>\n",
              "      <td>YES</td>\n",
              "      <td>0</td>\n",
              "      <td>3031</td>\n",
              "      <td>NaN</td>\n",
              "      <td>Sat Jan 30 23:59:58 +0000 2021</td>\n",
              "    </tr>\n",
              "    <tr>\n",
              "      <th>178884</th>\n",
              "      <td>1355667100677844993</td>\n",
              "      <td>en</td>\n",
              "      <td>NO</td>\n",
              "      <td>NO</td>\n",
              "      <td>0</td>\n",
              "      <td>0</td>\n",
              "      <td>NaN</td>\n",
              "      <td>Sat Jan 30 23:59:58 +0000 2021</td>\n",
              "    </tr>\n",
              "    <tr>\n",
              "      <th>178885</th>\n",
              "      <td>1355667100996673539</td>\n",
              "      <td>en</td>\n",
              "      <td>NO</td>\n",
              "      <td>YES</td>\n",
              "      <td>0</td>\n",
              "      <td>3</td>\n",
              "      <td>NaN</td>\n",
              "      <td>Sat Jan 30 23:59:58 +0000 2021</td>\n",
              "    </tr>\n",
              "    <tr>\n",
              "      <th>178886</th>\n",
              "      <td>1355667104213717004</td>\n",
              "      <td>en</td>\n",
              "      <td>NO</td>\n",
              "      <td>YES</td>\n",
              "      <td>0</td>\n",
              "      <td>844</td>\n",
              "      <td>NaN</td>\n",
              "      <td>Sat Jan 30 23:59:59 +0000 2021</td>\n",
              "    </tr>\n",
              "    <tr>\n",
              "      <th>178887</th>\n",
              "      <td>1355667106050793479</td>\n",
              "      <td>en</td>\n",
              "      <td>NO</td>\n",
              "      <td>NO</td>\n",
              "      <td>0</td>\n",
              "      <td>1</td>\n",
              "      <td>NaN</td>\n",
              "      <td>Sat Jan 30 23:59:59 +0000 2021</td>\n",
              "    </tr>\n",
              "  </tbody>\n",
              "</table>\n",
              "<p>27207248 rows × 8 columns</p>\n",
              "</div>"
            ],
            "text/plain": [
              "                   Tweet_ID Language  ... Country                    Date Created\n",
              "0       1353494053153697792       en  ...     NaN  Mon Jan 25 00:05:03 +0000 2021\n",
              "1       1353503745477201921       en  ...     NaN  Mon Jan 25 00:43:34 +0000 2021\n",
              "2       1353492779863687168       in  ...     NaN  Mon Jan 25 00:00:00 +0000 2021\n",
              "3       1353492779889025024      und  ...     NaN  Mon Jan 25 00:00:00 +0000 2021\n",
              "4       1353492779930939393       es  ...     NaN  Mon Jan 25 00:00:00 +0000 2021\n",
              "...                     ...      ...  ...     ...                             ...\n",
              "178883  1355667099495096324       en  ...     NaN  Sat Jan 30 23:59:58 +0000 2021\n",
              "178884  1355667100677844993       en  ...     NaN  Sat Jan 30 23:59:58 +0000 2021\n",
              "178885  1355667100996673539       en  ...     NaN  Sat Jan 30 23:59:58 +0000 2021\n",
              "178886  1355667104213717004       en  ...     NaN  Sat Jan 30 23:59:59 +0000 2021\n",
              "178887  1355667106050793479       en  ...     NaN  Sat Jan 30 23:59:59 +0000 2021\n",
              "\n",
              "[27207248 rows x 8 columns]"
            ]
          },
          "metadata": {
            "tags": []
          },
          "execution_count": 21
        }
      ]
    },
    {
      "cell_type": "code",
      "metadata": {
        "colab": {
          "base_uri": "https://localhost:8080/",
          "height": 419
        },
        "id": "H4ZkBJCQKVMb",
        "outputId": "aa6def42-d6dc-4131-f9ba-5be180ab326e"
      },
      "source": [
        "Summary_Sentiment=pd.DataFrame() \r\n",
        "os.chdir('../Summary_Sentiment_files')\r\n",
        "directory =  os.getcwd()\r\n",
        "for root,dirs,files in os.walk(directory):\r\n",
        "  for file in files:\r\n",
        "    if file.endswith(\".csv\"):\r\n",
        "      data = pd.read_csv(file) \r\n",
        "      frames = [Summary_Sentiment, data]\r\n",
        "      Summary_Sentiment = pd.concat(frames)\r\n",
        "Summary_Sentiment"
      ],
      "execution_count": null,
      "outputs": [
        {
          "output_type": "execute_result",
          "data": {
            "text/html": [
              "<div>\n",
              "<style scoped>\n",
              "    .dataframe tbody tr th:only-of-type {\n",
              "        vertical-align: middle;\n",
              "    }\n",
              "\n",
              "    .dataframe tbody tr th {\n",
              "        vertical-align: top;\n",
              "    }\n",
              "\n",
              "    .dataframe thead th {\n",
              "        text-align: right;\n",
              "    }\n",
              "</style>\n",
              "<table border=\"1\" class=\"dataframe\">\n",
              "  <thead>\n",
              "    <tr style=\"text-align: right;\">\n",
              "      <th></th>\n",
              "      <th>Tweet_ID</th>\n",
              "      <th>Sentiment_Label</th>\n",
              "      <th>Logits_Neutral</th>\n",
              "      <th>Logits_Positive</th>\n",
              "      <th>Logits_Negative</th>\n",
              "    </tr>\n",
              "  </thead>\n",
              "  <tbody>\n",
              "    <tr>\n",
              "      <th>0</th>\n",
              "      <td>1353494053153697792</td>\n",
              "      <td>neutral</td>\n",
              "      <td>1.598812</td>\n",
              "      <td>0.087102</td>\n",
              "      <td>1.090797</td>\n",
              "    </tr>\n",
              "    <tr>\n",
              "      <th>1</th>\n",
              "      <td>1353503745477201921</td>\n",
              "      <td>negative</td>\n",
              "      <td>0.869584</td>\n",
              "      <td>0.147827</td>\n",
              "      <td>1.179057</td>\n",
              "    </tr>\n",
              "    <tr>\n",
              "      <th>2</th>\n",
              "      <td>1353492780107096065</td>\n",
              "      <td>neutral</td>\n",
              "      <td>1.920133</td>\n",
              "      <td>0.666012</td>\n",
              "      <td>0.372760</td>\n",
              "    </tr>\n",
              "    <tr>\n",
              "      <th>3</th>\n",
              "      <td>1353492780425777152</td>\n",
              "      <td>neutral</td>\n",
              "      <td>1.285802</td>\n",
              "      <td>0.423323</td>\n",
              "      <td>0.786376</td>\n",
              "    </tr>\n",
              "    <tr>\n",
              "      <th>4</th>\n",
              "      <td>1353492780497199106</td>\n",
              "      <td>neutral</td>\n",
              "      <td>1.274271</td>\n",
              "      <td>0.922185</td>\n",
              "      <td>0.468770</td>\n",
              "    </tr>\n",
              "    <tr>\n",
              "      <th>...</th>\n",
              "      <td>...</td>\n",
              "      <td>...</td>\n",
              "      <td>...</td>\n",
              "      <td>...</td>\n",
              "      <td>...</td>\n",
              "    </tr>\n",
              "    <tr>\n",
              "      <th>113997</th>\n",
              "      <td>1355667099495096324</td>\n",
              "      <td>negative</td>\n",
              "      <td>1.126134</td>\n",
              "      <td>-0.411168</td>\n",
              "      <td>1.857272</td>\n",
              "    </tr>\n",
              "    <tr>\n",
              "      <th>113998</th>\n",
              "      <td>1355667100677844993</td>\n",
              "      <td>negative</td>\n",
              "      <td>1.312050</td>\n",
              "      <td>-1.312827</td>\n",
              "      <td>2.920310</td>\n",
              "    </tr>\n",
              "    <tr>\n",
              "      <th>113999</th>\n",
              "      <td>1355667100996673539</td>\n",
              "      <td>neutral</td>\n",
              "      <td>1.728394</td>\n",
              "      <td>0.520496</td>\n",
              "      <td>0.616420</td>\n",
              "    </tr>\n",
              "    <tr>\n",
              "      <th>114000</th>\n",
              "      <td>1355667104213717004</td>\n",
              "      <td>neutral</td>\n",
              "      <td>1.437371</td>\n",
              "      <td>0.382628</td>\n",
              "      <td>1.329809</td>\n",
              "    </tr>\n",
              "    <tr>\n",
              "      <th>114001</th>\n",
              "      <td>1355667106050793479</td>\n",
              "      <td>negative</td>\n",
              "      <td>1.202017</td>\n",
              "      <td>0.435080</td>\n",
              "      <td>1.358998</td>\n",
              "    </tr>\n",
              "  </tbody>\n",
              "</table>\n",
              "<p>15949943 rows × 5 columns</p>\n",
              "</div>"
            ],
            "text/plain": [
              "                   Tweet_ID Sentiment_Label  ...  Logits_Positive  Logits_Negative\n",
              "0       1353494053153697792         neutral  ...         0.087102         1.090797\n",
              "1       1353503745477201921        negative  ...         0.147827         1.179057\n",
              "2       1353492780107096065         neutral  ...         0.666012         0.372760\n",
              "3       1353492780425777152         neutral  ...         0.423323         0.786376\n",
              "4       1353492780497199106         neutral  ...         0.922185         0.468770\n",
              "...                     ...             ...  ...              ...              ...\n",
              "113997  1355667099495096324        negative  ...        -0.411168         1.857272\n",
              "113998  1355667100677844993        negative  ...        -1.312827         2.920310\n",
              "113999  1355667100996673539         neutral  ...         0.520496         0.616420\n",
              "114000  1355667104213717004         neutral  ...         0.382628         1.329809\n",
              "114001  1355667106050793479        negative  ...         0.435080         1.358998\n",
              "\n",
              "[15949943 rows x 5 columns]"
            ]
          },
          "metadata": {
            "tags": []
          },
          "execution_count": 22
        }
      ]
    },
    {
      "cell_type": "markdown",
      "metadata": {
        "id": "w0CfU-SUlUIp"
      },
      "source": [
        "### Filter Tweets\n"
      ]
    },
    {
      "cell_type": "markdown",
      "metadata": {
        "id": "6Fj9ydtn9aIL"
      },
      "source": [
        "You can filter the tweets by:\n"
      ]
    },
    {
      "cell_type": "code",
      "metadata": {
        "id": "qGdsBbsHxrcG",
        "colab": {
          "base_uri": "https://localhost:8080/",
          "height": 419
        },
        "outputId": "d7323d3d-65ba-4b56-ae1c-7cf87f550cdb"
      },
      "source": [
        "\n",
        "Just_English_Tweets= True #@param {type:\"boolean\"}\n",
        "Just_with_Geolocation_information = False #@param {type:\"boolean\"}\n",
        "Just_Original_tweets = True #@param {type:\"boolean\"}\n",
        "Minimun_No_Likes =  30#@param {type:\"number\"}\n",
        "Minimun_No_Retweets =  3#@param {type:\"number\"}\n",
        "\n",
        "Summary_Details2=Summary_Details\n",
        "if(Just_English_Tweets):\n",
        "  Summary_Details2=Summary_Details2[ Summary_Details2['Language']=='en']\n",
        "if(Just_with_Geolocation_information):\n",
        "  Summary_Details2=Summary_Details2[ Summary_Details2['Geolocation_coordinate']=='YES']\n",
        "if(Just_Original_tweets):\n",
        "  Summary_Details2=Summary_Details2[ Summary_Details2['RT']=='NO']\n",
        "\n",
        "\n",
        "Summary_Details2=Summary_Details2[ Summary_Details2['Likes']>=Minimun_No_Likes]\n",
        "Summary_Details2=Summary_Details2[ Summary_Details2['Retweets']>=Minimun_No_Retweets]\n",
        "\n",
        "Summary_Details2 = Summary_Details2.sample(n=10000)\n",
        "Summary_Details2\n",
        "\n",
        "ourdata = pd.merge(left=Summary_Sentiment, right=Summary_Details2, left_on='Tweet_ID', right_on='Tweet_ID')\n",
        "ourdata"
      ],
      "execution_count": null,
      "outputs": [
        {
          "output_type": "execute_result",
          "data": {
            "text/html": [
              "<div>\n",
              "<style scoped>\n",
              "    .dataframe tbody tr th:only-of-type {\n",
              "        vertical-align: middle;\n",
              "    }\n",
              "\n",
              "    .dataframe tbody tr th {\n",
              "        vertical-align: top;\n",
              "    }\n",
              "\n",
              "    .dataframe thead th {\n",
              "        text-align: right;\n",
              "    }\n",
              "</style>\n",
              "<table border=\"1\" class=\"dataframe\">\n",
              "  <thead>\n",
              "    <tr style=\"text-align: right;\">\n",
              "      <th></th>\n",
              "      <th>Tweet_ID</th>\n",
              "      <th>Sentiment_Label</th>\n",
              "      <th>Logits_Neutral</th>\n",
              "      <th>Logits_Positive</th>\n",
              "      <th>Logits_Negative</th>\n",
              "      <th>Language</th>\n",
              "      <th>Geolocation_coordinate</th>\n",
              "      <th>RT</th>\n",
              "      <th>Likes</th>\n",
              "      <th>Retweets</th>\n",
              "      <th>Country</th>\n",
              "      <th>Date Created</th>\n",
              "    </tr>\n",
              "  </thead>\n",
              "  <tbody>\n",
              "    <tr>\n",
              "      <th>0</th>\n",
              "      <td>1353493039612907521</td>\n",
              "      <td>positive</td>\n",
              "      <td>1.267569</td>\n",
              "      <td>4.436732</td>\n",
              "      <td>-0.921855</td>\n",
              "      <td>en</td>\n",
              "      <td>NO</td>\n",
              "      <td>NO</td>\n",
              "      <td>93</td>\n",
              "      <td>4</td>\n",
              "      <td>NaN</td>\n",
              "      <td>Mon Jan 25 00:01:01 +0000 2021</td>\n",
              "    </tr>\n",
              "    <tr>\n",
              "      <th>1</th>\n",
              "      <td>1353493684323409920</td>\n",
              "      <td>positive</td>\n",
              "      <td>1.115266</td>\n",
              "      <td>1.369663</td>\n",
              "      <td>0.440465</td>\n",
              "      <td>en</td>\n",
              "      <td>NO</td>\n",
              "      <td>NO</td>\n",
              "      <td>70</td>\n",
              "      <td>6</td>\n",
              "      <td>NaN</td>\n",
              "      <td>Mon Jan 25 00:03:35 +0000 2021</td>\n",
              "    </tr>\n",
              "    <tr>\n",
              "      <th>2</th>\n",
              "      <td>1353493698567434240</td>\n",
              "      <td>negative</td>\n",
              "      <td>0.599459</td>\n",
              "      <td>0.070352</td>\n",
              "      <td>1.558625</td>\n",
              "      <td>en</td>\n",
              "      <td>NO</td>\n",
              "      <td>NO</td>\n",
              "      <td>49</td>\n",
              "      <td>3</td>\n",
              "      <td>NaN</td>\n",
              "      <td>Mon Jan 25 00:03:39 +0000 2021</td>\n",
              "    </tr>\n",
              "    <tr>\n",
              "      <th>3</th>\n",
              "      <td>1353493806054780929</td>\n",
              "      <td>negative</td>\n",
              "      <td>1.174485</td>\n",
              "      <td>-0.735503</td>\n",
              "      <td>2.216182</td>\n",
              "      <td>en</td>\n",
              "      <td>NO</td>\n",
              "      <td>NO</td>\n",
              "      <td>103</td>\n",
              "      <td>7</td>\n",
              "      <td>NaN</td>\n",
              "      <td>Mon Jan 25 00:04:04 +0000 2021</td>\n",
              "    </tr>\n",
              "    <tr>\n",
              "      <th>4</th>\n",
              "      <td>1353493911822454784</td>\n",
              "      <td>negative</td>\n",
              "      <td>1.181635</td>\n",
              "      <td>0.483474</td>\n",
              "      <td>2.044955</td>\n",
              "      <td>en</td>\n",
              "      <td>NO</td>\n",
              "      <td>NO</td>\n",
              "      <td>51</td>\n",
              "      <td>6</td>\n",
              "      <td>NaN</td>\n",
              "      <td>Mon Jan 25 00:04:29 +0000 2021</td>\n",
              "    </tr>\n",
              "    <tr>\n",
              "      <th>...</th>\n",
              "      <td>...</td>\n",
              "      <td>...</td>\n",
              "      <td>...</td>\n",
              "      <td>...</td>\n",
              "      <td>...</td>\n",
              "      <td>...</td>\n",
              "      <td>...</td>\n",
              "      <td>...</td>\n",
              "      <td>...</td>\n",
              "      <td>...</td>\n",
              "      <td>...</td>\n",
              "      <td>...</td>\n",
              "    </tr>\n",
              "    <tr>\n",
              "      <th>9995</th>\n",
              "      <td>1355666749849526272</td>\n",
              "      <td>neutral</td>\n",
              "      <td>1.266063</td>\n",
              "      <td>0.972203</td>\n",
              "      <td>0.961146</td>\n",
              "      <td>en</td>\n",
              "      <td>NO</td>\n",
              "      <td>NO</td>\n",
              "      <td>130</td>\n",
              "      <td>21</td>\n",
              "      <td>NaN</td>\n",
              "      <td>Sat Jan 30 23:58:34 +0000 2021</td>\n",
              "    </tr>\n",
              "    <tr>\n",
              "      <th>9996</th>\n",
              "      <td>1355667097062408192</td>\n",
              "      <td>positive</td>\n",
              "      <td>1.127055</td>\n",
              "      <td>2.070563</td>\n",
              "      <td>0.122575</td>\n",
              "      <td>en</td>\n",
              "      <td>NO</td>\n",
              "      <td>NO</td>\n",
              "      <td>84</td>\n",
              "      <td>10</td>\n",
              "      <td>NaN</td>\n",
              "      <td>Sat Jan 30 23:59:57 +0000 2021</td>\n",
              "    </tr>\n",
              "    <tr>\n",
              "      <th>9997</th>\n",
              "      <td>1355664635295387649</td>\n",
              "      <td>neutral</td>\n",
              "      <td>2.398338</td>\n",
              "      <td>1.264459</td>\n",
              "      <td>-0.537294</td>\n",
              "      <td>en</td>\n",
              "      <td>NO</td>\n",
              "      <td>NO</td>\n",
              "      <td>70</td>\n",
              "      <td>18</td>\n",
              "      <td>NaN</td>\n",
              "      <td>Sat Jan 30 23:50:10 +0000 2021</td>\n",
              "    </tr>\n",
              "    <tr>\n",
              "      <th>9998</th>\n",
              "      <td>1355655560243372033</td>\n",
              "      <td>negative</td>\n",
              "      <td>0.342883</td>\n",
              "      <td>-1.007089</td>\n",
              "      <td>3.682443</td>\n",
              "      <td>en</td>\n",
              "      <td>NO</td>\n",
              "      <td>NO</td>\n",
              "      <td>40</td>\n",
              "      <td>7</td>\n",
              "      <td>NaN</td>\n",
              "      <td>Sat Jan 30 23:14:07 +0000 2021</td>\n",
              "    </tr>\n",
              "    <tr>\n",
              "      <th>9999</th>\n",
              "      <td>1355653267200507908</td>\n",
              "      <td>negative</td>\n",
              "      <td>1.114692</td>\n",
              "      <td>-1.260884</td>\n",
              "      <td>3.256710</td>\n",
              "      <td>en</td>\n",
              "      <td>NO</td>\n",
              "      <td>NO</td>\n",
              "      <td>343</td>\n",
              "      <td>120</td>\n",
              "      <td>NaN</td>\n",
              "      <td>Sat Jan 30 23:05:00 +0000 2021</td>\n",
              "    </tr>\n",
              "  </tbody>\n",
              "</table>\n",
              "<p>10000 rows × 12 columns</p>\n",
              "</div>"
            ],
            "text/plain": [
              "                 Tweet_ID  ...                    Date Created\n",
              "0     1353493039612907521  ...  Mon Jan 25 00:01:01 +0000 2021\n",
              "1     1353493684323409920  ...  Mon Jan 25 00:03:35 +0000 2021\n",
              "2     1353493698567434240  ...  Mon Jan 25 00:03:39 +0000 2021\n",
              "3     1353493806054780929  ...  Mon Jan 25 00:04:04 +0000 2021\n",
              "4     1353493911822454784  ...  Mon Jan 25 00:04:29 +0000 2021\n",
              "...                   ...  ...                             ...\n",
              "9995  1355666749849526272  ...  Sat Jan 30 23:58:34 +0000 2021\n",
              "9996  1355667097062408192  ...  Sat Jan 30 23:59:57 +0000 2021\n",
              "9997  1355664635295387649  ...  Sat Jan 30 23:50:10 +0000 2021\n",
              "9998  1355655560243372033  ...  Sat Jan 30 23:14:07 +0000 2021\n",
              "9999  1355653267200507908  ...  Sat Jan 30 23:05:00 +0000 2021\n",
              "\n",
              "[10000 rows x 12 columns]"
            ]
          },
          "metadata": {
            "tags": []
          },
          "execution_count": 37
        }
      ]
    },
    {
      "cell_type": "markdown",
      "metadata": {
        "id": "K81sHrmZtID9"
      },
      "source": [
        "For more personalized filtering you can modify the pandas dataframe directly"
      ]
    },
    {
      "cell_type": "markdown",
      "metadata": {
        "id": "-BDEuBH7LPTn"
      },
      "source": [
        "### Save configuration into a file\n",
        "All the IDs are read into a single set in the previous code block using the specified configuration. The ID Output file stores all the IDs in a single file so that the configuration blocks don't have to be run again. In case the program unexpectedly stops, you can just run the code for Initialization and then the code for Hydration."
      ]
    },
    {
      "cell_type": "code",
      "metadata": {
        "colab": {
          "base_uri": "https://localhost:8080/"
        },
        "id": "xJreVHd4ZRTq",
        "outputId": "4c4a8a4e-1c8d-482c-b611-41640165a412"
      },
      "source": [
        "os.chdir('COVID19_Tweets')\r\n",
        "print(os.getcwd())"
      ],
      "execution_count": null,
      "outputs": [
        {
          "output_type": "stream",
          "text": [
            "/content/gdrive/My Drive/COVID19_Tweets\n"
          ],
          "name": "stdout"
        }
      ]
    },
    {
      "cell_type": "code",
      "metadata": {
        "id": "y4EfPTrnLO0c"
      },
      "source": [
        "#@title Enter ID output file {run: \"auto\"}\n",
        "ourdata.to_csv('before_hy.csv')\n",
        "\n",
        "final_tweet_ids_filename = \"final_ids.txt\" #@param {type: \"string\"}\n",
        "# The set of IDs is stored in this file.\n",
        "with open(final_tweet_ids_filename, \"w+\") as f:\n",
        "    for id in ourdata['Tweet_ID']:\n",
        "        f.write('%s\\n' % id)"
      ],
      "execution_count": null,
      "outputs": []
    },
    {
      "cell_type": "markdown",
      "metadata": {
        "id": "NxFa0jOTKbBw"
      },
      "source": [
        "# Hydrate"
      ]
    },
    {
      "cell_type": "markdown",
      "metadata": {
        "id": "kBBH-a4WK1JM"
      },
      "source": [
        "### Set up output file"
      ]
    },
    {
      "cell_type": "markdown",
      "metadata": {
        "id": "U74uUnemI6h9"
      },
      "source": [
        "The final_tweet_ids_filename should be exactly the same as the ID output file from the Configuration block. If this file does not exist in the working directory, you have to re-run the Configuration block.\n",
        "\n",
        "Please also keep the output_filename the same in case the code is halted. That way, tweets already hydrated aren't re-hydrated for no reason. \n",
        "\n",
        "Also, please do not remove the .txt file created after running the Hydrate block until all the data is converted to a CSV file."
      ]
    },
    {
      "cell_type": "code",
      "metadata": {
        "id": "9ATxyEfSLBK1"
      },
      "source": [
        "#@title Set up Directory { run: \"auto\"}\n",
        "final_tweet_ids_filename = \"final_ids.txt\" #@param {type: \"string\"}\n",
        "output_filename = \"output.csv\" #@param {type: \"string\"}"
      ],
      "execution_count": null,
      "outputs": []
    },
    {
      "cell_type": "markdown",
      "metadata": {
        "id": "QG9cS-aoW0Wy"
      },
      "source": [
        "The time for this code will depend on how many tweets you want to “hydrate”. Also, be advise of the Tweet API limit, the code will “go to sleep” once the limit is reach and automatically continue. \n",
        "You can leave this code running in Google Colab for a max of 12hrs. \n"
      ]
    },
    {
      "cell_type": "code",
      "metadata": {
        "id": "DFwYd7m58WR3",
        "colab": {
          "base_uri": "https://localhost:8080/"
        },
        "outputId": "bb313f3c-d070-4479-ea52-ae0046695459"
      },
      "source": [
        "import jsonlines, json\n",
        "# Stores hydrated tweets here as jsonl objects\n",
        "# Contains one json object per line\n",
        "output_json_filename = output_filename[:output_filename.index(\".\")] + \".txt\"\n",
        "ids = []\n",
        "with open(final_tweet_ids_filename, \"r\") as ids_file:\n",
        "    ids = ids_file.read().split()\n",
        "hydrated_tweets = []\n",
        "ids_to_hydrate = set(ids)\n",
        "\n",
        "# Looks at the output file for already hydrated tweets\n",
        "if os.path.isfile(output_json_filename):\n",
        "    with jsonlines.open(output_json_filename, \"r\") as reader:\n",
        "        for i in reader.iter(type=dict, skip_invalid=True):\n",
        "            # These tweets have already been hydrated. So remove them from ids_to_hydrate\n",
        "            hydrated_tweets.append(i)\n",
        "            ids_to_hydrate.remove(i[\"id_str\"])\n",
        "print(\"Total IDs: \" + str(len(ids)) + \", IDs to hydrate: \" + str(len(ids_to_hydrate)))\n",
        "print(\"Hydrated: \" + str(len(hydrated_tweets)))\n",
        "\n",
        "count = len(hydrated_tweets)\n",
        "start_index = count # The index from where tweets haven't been saved to the output_json_file\n",
        "# Stores hydrated tweets to output_json_file every num_save iterations.\n",
        "num_save  = 1000\n",
        "\n",
        "# Now, use twarc and start hydrating\n",
        "for tweet in t.hydrate(ids_to_hydrate):\n",
        "    hydrated_tweets.append(tweet)\n",
        "    count += 1\n",
        "    # If num_save iterations have passed,\n",
        "    if (count % num_save) == 0:\n",
        "        # Open the output file\n",
        "        # NOTE: Even if the code stops during IO, only tweets from the current iteration are lost.\n",
        "        # Older tweets are preserved as the file is written in append mode.\n",
        "        with jsonlines.open(output_json_filename, \"a\") as writer:\n",
        "            print(\"Started IO\")\n",
        "            # Now write the tweets from start_index. The other tweets don't have to be written\n",
        "            # as they were already written in a previous iteration or run.\n",
        "            for hydrated_tweet in hydrated_tweets[start_index:]:\n",
        "                writer.write(hydrated_tweet)\n",
        "            print(\"Finished IO\")\n",
        "        print(\"Saved \" + str(count) + \" hydrated tweets.\")\n",
        "        # Now, since everything has been written. Reset start_index\n",
        "        start_index = count\n",
        "# There might be tweets unwritten in the last iteration if the count is not a multiple of num_tweets.\n",
        "# In that case, just write out the remainder of tweets.\n",
        "if count != start_index:\n",
        "    print(\"Here with start_index\", start_index)\n",
        "    with jsonlines.open(output_json_filename, \"a\") as writer:\n",
        "        for hydrated_tweet in hydrated_tweets[start_index:]:\n",
        "           writer.write(hydrated_tweet)   "
      ],
      "execution_count": null,
      "outputs": [
        {
          "output_type": "stream",
          "text": [
            "ERROR:twarc:caught connection error ('Connection aborted.', ConnectionResetError(104, 'Connection reset by peer')) on 1 try\n"
          ],
          "name": "stderr"
        },
        {
          "output_type": "stream",
          "text": [
            "Total IDs: 10000, IDs to hydrate: 10000\n",
            "Hydrated: 0\n",
            "Started IO\n",
            "Finished IO\n",
            "Saved 1000 hydrated tweets.\n",
            "Started IO\n",
            "Finished IO\n",
            "Saved 2000 hydrated tweets.\n",
            "Started IO\n",
            "Finished IO\n",
            "Saved 3000 hydrated tweets.\n",
            "Started IO\n",
            "Finished IO\n",
            "Saved 4000 hydrated tweets.\n",
            "Started IO\n",
            "Finished IO\n",
            "Saved 5000 hydrated tweets.\n",
            "Started IO\n",
            "Finished IO\n",
            "Saved 6000 hydrated tweets.\n",
            "Started IO\n",
            "Finished IO\n",
            "Saved 7000 hydrated tweets.\n",
            "Started IO\n",
            "Finished IO\n",
            "Saved 8000 hydrated tweets.\n",
            "Started IO\n",
            "Finished IO\n",
            "Saved 9000 hydrated tweets.\n",
            "Here with start_index 9000\n"
          ],
          "name": "stdout"
        }
      ]
    },
    {
      "cell_type": "markdown",
      "metadata": {
        "id": "X6O-KWKnbcGt"
      },
      "source": [
        "## Convert JSONL to CSV\n",
        "Data is stored in  output_json_file from the previous code block. This now converts the jsonl .txt file into a csv file. Note that the column names required is stored as a list in the code.\n",
        "\n",
        "Note that a few of the columns are actually json objects (for example, user or entities). You will have to clean these objects into 1D data."
      ]
    },
    {
      "cell_type": "code",
      "metadata": {
        "id": "0x68cvh5AJCD"
      },
      "source": [
        "# Convert jsonl to csv\n",
        "import csv, jsonlines\n",
        "output_json_filename = output_filename[:output_filename.index(\".\")] + \".txt\"\n",
        "# These are the column name that are selected to be stored in the csv\n",
        "keyset = [\"created_at\", \"id\", \"id_str\", \"full_text\", \"source\", \"truncated\", \"in_reply_to_status_id\",\n",
        "          \"in_reply_to_status_id_str\", \"in_reply_to_user_id\", \"in_reply_to_user_id_str\", \n",
        "          \"in_reply_to_screen_name\", \"user\", \"coordinates\", \"place\", \"quoted_status_id\",\n",
        "          \"quoted_status_id_str\", \"is_quote_status\", \"quoted_status\", \"retweeted_status\", \n",
        "          \"quote_count\", \"reply_count\", \"retweet_count\", \"favorite_count\", \"entities\", \n",
        "          \"extended_entities\", \"favorited\", \"retweeted\", \"possibly_sensitive\", \"filter_level\", \n",
        "          \"lang\", \"matching_rules\", \"current_user_retweet\", \"scopes\", \"withheld_copyright\", \n",
        "          \"withheld_in_countries\", \"withheld_scope\", \"geo\", \"contributors\", \"display_text_range\",\n",
        "          \"quoted_status_permalink\"]\n",
        "hydrated_tweets = []\n",
        "# Reads the current tweets\n",
        "with jsonlines.open(output_json_filename, \"r\") as reader:\n",
        "    for i in reader.iter(type=dict, skip_invalid=True):\n",
        "        hydrated_tweets.append(i)\n",
        "# Writes them out\n",
        "with  open(output_filename, \"w+\") as output_file:\n",
        "    d = csv.DictWriter(output_file, keyset)\n",
        "    d.writeheader()\n",
        "    d.writerows(hydrated_tweets)"
      ],
      "execution_count": null,
      "outputs": []
    },
    {
      "cell_type": "markdown",
      "metadata": {
        "id": "utvrm8g7NHNs"
      },
      "source": [
        "Your data is now stored in output_filename. If you want to re-run  this notebook, please copy output_filename file to a different directory."
      ]
    },
    {
      "cell_type": "code",
      "metadata": {
        "id": "qfOtequAdS_B"
      },
      "source": [
        "hy = pd.read_csv('hydrated.csv')\r\n",
        "before_hy =  pd.read_csv('before_hy.csv')\r\n",
        "out = pd.merge(left=hy, right=before_hy, left_on='id', right_on='Tweet_ID')\r\n",
        "out = out[['Tweet_ID', 'full_text', 'Sentiment_Label']]\r\n",
        "out.to_csv('data_to_learn.csv')\r\n"
      ],
      "execution_count": null,
      "outputs": []
    }
  ]
}